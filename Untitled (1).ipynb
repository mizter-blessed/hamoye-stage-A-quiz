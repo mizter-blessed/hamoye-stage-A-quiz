{
 "cells": [
  {
   "cell_type": "code",
   "execution_count": 66,
   "id": "c43e1cac-cc99-40a1-9bc4-bb83c1478a1a",
   "metadata": {},
   "outputs": [
    {
     "data": {
      "text/html": [
       "<div>\n",
       "<style scoped>\n",
       "    .dataframe tbody tr th:only-of-type {\n",
       "        vertical-align: middle;\n",
       "    }\n",
       "\n",
       "    .dataframe tbody tr th {\n",
       "        vertical-align: top;\n",
       "    }\n",
       "\n",
       "    .dataframe thead th {\n",
       "        text-align: right;\n",
       "    }\n",
       "</style>\n",
       "<table border=\"1\" class=\"dataframe\">\n",
       "  <thead>\n",
       "    <tr style=\"text-align: right;\">\n",
       "      <th></th>\n",
       "      <th>Area Code</th>\n",
       "      <th>Area</th>\n",
       "      <th>Item Code</th>\n",
       "      <th>Item</th>\n",
       "      <th>Element Code</th>\n",
       "      <th>Element</th>\n",
       "      <th>Unit</th>\n",
       "      <th>Y2014</th>\n",
       "      <th>Y2015</th>\n",
       "      <th>Y2016</th>\n",
       "      <th>Y2017</th>\n",
       "      <th>Y2018</th>\n",
       "    </tr>\n",
       "  </thead>\n",
       "  <tbody>\n",
       "    <tr>\n",
       "      <th>0</th>\n",
       "      <td>4</td>\n",
       "      <td>Algeria</td>\n",
       "      <td>2501</td>\n",
       "      <td>Population</td>\n",
       "      <td>511</td>\n",
       "      <td>Total Population - Both sexes</td>\n",
       "      <td>1000 persons</td>\n",
       "      <td>38924.00</td>\n",
       "      <td>39728.00</td>\n",
       "      <td>40551.00</td>\n",
       "      <td>41389.00</td>\n",
       "      <td>42228.00</td>\n",
       "    </tr>\n",
       "    <tr>\n",
       "      <th>1</th>\n",
       "      <td>4</td>\n",
       "      <td>Algeria</td>\n",
       "      <td>2501</td>\n",
       "      <td>Population</td>\n",
       "      <td>5301</td>\n",
       "      <td>Domestic supply quantity</td>\n",
       "      <td>1000 tonnes</td>\n",
       "      <td>0.00</td>\n",
       "      <td>0.00</td>\n",
       "      <td>0.00</td>\n",
       "      <td>0.00</td>\n",
       "      <td>0.00</td>\n",
       "    </tr>\n",
       "    <tr>\n",
       "      <th>2</th>\n",
       "      <td>4</td>\n",
       "      <td>Algeria</td>\n",
       "      <td>2901</td>\n",
       "      <td>Grand Total</td>\n",
       "      <td>664</td>\n",
       "      <td>Food supply (kcal/capita/day)</td>\n",
       "      <td>kcal/capita/day</td>\n",
       "      <td>3377.00</td>\n",
       "      <td>3379.00</td>\n",
       "      <td>3372.00</td>\n",
       "      <td>3341.00</td>\n",
       "      <td>3322.00</td>\n",
       "    </tr>\n",
       "    <tr>\n",
       "      <th>3</th>\n",
       "      <td>4</td>\n",
       "      <td>Algeria</td>\n",
       "      <td>2901</td>\n",
       "      <td>Grand Total</td>\n",
       "      <td>674</td>\n",
       "      <td>Protein supply quantity (g/capita/day)</td>\n",
       "      <td>g/capita/day</td>\n",
       "      <td>94.90</td>\n",
       "      <td>94.35</td>\n",
       "      <td>94.72</td>\n",
       "      <td>92.82</td>\n",
       "      <td>91.83</td>\n",
       "    </tr>\n",
       "    <tr>\n",
       "      <th>4</th>\n",
       "      <td>4</td>\n",
       "      <td>Algeria</td>\n",
       "      <td>2901</td>\n",
       "      <td>Grand Total</td>\n",
       "      <td>684</td>\n",
       "      <td>Fat supply quantity (g/capita/day)</td>\n",
       "      <td>g/capita/day</td>\n",
       "      <td>80.06</td>\n",
       "      <td>79.36</td>\n",
       "      <td>77.40</td>\n",
       "      <td>80.19</td>\n",
       "      <td>77.28</td>\n",
       "    </tr>\n",
       "  </tbody>\n",
       "</table>\n",
       "</div>"
      ],
      "text/plain": [
       "   Area Code     Area  Item Code         Item  Element Code  \\\n",
       "0          4  Algeria       2501   Population           511   \n",
       "1          4  Algeria       2501   Population          5301   \n",
       "2          4  Algeria       2901  Grand Total           664   \n",
       "3          4  Algeria       2901  Grand Total           674   \n",
       "4          4  Algeria       2901  Grand Total           684   \n",
       "\n",
       "                                  Element             Unit     Y2014  \\\n",
       "0           Total Population - Both sexes     1000 persons  38924.00   \n",
       "1                Domestic supply quantity      1000 tonnes      0.00   \n",
       "2           Food supply (kcal/capita/day)  kcal/capita/day   3377.00   \n",
       "3  Protein supply quantity (g/capita/day)     g/capita/day     94.90   \n",
       "4      Fat supply quantity (g/capita/day)     g/capita/day     80.06   \n",
       "\n",
       "      Y2015     Y2016     Y2017     Y2018  \n",
       "0  39728.00  40551.00  41389.00  42228.00  \n",
       "1      0.00      0.00      0.00      0.00  \n",
       "2   3379.00   3372.00   3341.00   3322.00  \n",
       "3     94.35     94.72     92.82     91.83  \n",
       "4     79.36     77.40     80.19     77.28  "
      ]
     },
     "execution_count": 66,
     "metadata": {},
     "output_type": "execute_result"
    }
   ],
   "source": [
    "import pandas as pd\n",
    "import numpy as np\n",
    "url= \"C:/Users/akiny/Downloads/FoodBalanceSheets_E_Africa_NOFLAG (1).csv\"\n",
    "\n",
    "dt=pd.read_csv(url, encoding = \"ISO-8859-1\")\n",
    "dt.head()"
   ]
  },
  {
   "cell_type": "code",
   "execution_count": 103,
   "id": "4f09e68f-fddc-46ac-8a82-f356b8101b9f",
   "metadata": {},
   "outputs": [
    {
     "data": {
      "text/plain": [
       "Element\n",
       "Domestic supply quantity                  2021493.55\n",
       "Export Quantity                            157614.47\n",
       "Fat supply quantity (g/capita/day)          10235.74\n",
       "Feed                                       225050.22\n",
       "Food                                      1232361.10\n",
       "Food supply (kcal/capita/day)              453383.00\n",
       "Food supply quantity (kg/capita/yr)         49345.13\n",
       "Import Quantity                            267018.46\n",
       "Losses                                     155439.00\n",
       "Other uses (non-food)                       66254.41\n",
       "Processing                                 287929.00\n",
       "Production                                1947019.39\n",
       "Protein supply quantity (g/capita/day)      11833.95\n",
       "Residuals                                   30045.00\n",
       "Seed                                        23976.82\n",
       "Stock Variation                             34910.99\n",
       "Total Population - Both sexes             1058081.00\n",
       "Tourist consumption                           349.00\n",
       "Name: Y2015, dtype: float64"
      ]
     },
     "execution_count": 103,
     "metadata": {},
     "output_type": "execute_result"
    }
   ],
   "source": [
    "gd=dt.groupby('Element')['Y2015']\n",
    "gd.sum()"
   ]
  },
  {
   "cell_type": "code",
   "execution_count": 108,
   "id": "df6051c3-eb6c-42d9-b1b6-409da1ed116d",
   "metadata": {},
   "outputs": [
    {
     "data": {
      "text/plain": [
       "count     60943\n",
       "unique       49\n",
       "top       Kenya\n",
       "freq       1560\n",
       "Name: Area, dtype: object"
      ]
     },
     "execution_count": 108,
     "metadata": {},
     "output_type": "execute_result"
    }
   ],
   "source": [
    "dt['Area'].describe()"
   ]
  },
  {
   "cell_type": "code",
   "execution_count": 113,
   "id": "c647fde8-f529-4625-914c-75a77c79e737",
   "metadata": {},
   "outputs": [
    {
     "data": {
      "text/plain": [
       "60943"
      ]
     },
     "execution_count": 113,
     "metadata": {},
     "output_type": "execute_result"
    }
   ],
   "source": [
    "len(dt['Y2014'])"
   ]
  },
  {
   "cell_type": "code",
   "execution_count": 115,
   "id": "287f7e8d-a38a-4732-907a-6170443f3a18",
   "metadata": {},
   "outputs": [
    {
     "data": {
      "text/plain": [
       "2.6073544131401474"
      ]
     },
     "execution_count": 115,
     "metadata": {},
     "output_type": "execute_result"
    }
   ],
   "source": [
    "1589/60943 *100"
   ]
  },
  {
   "cell_type": "code",
   "execution_count": 117,
   "id": "9583126c-f391-4f26-a74a-57f0dacf2642",
   "metadata": {},
   "outputs": [
    {
     "data": {
      "text/plain": [
       "(60943, 12)"
      ]
     },
     "execution_count": 117,
     "metadata": {},
     "output_type": "execute_result"
    }
   ],
   "source": [
    "dt.shape"
   ]
  },
  {
   "cell_type": "code",
   "execution_count": 134,
   "id": "1aff491b-262e-4fc4-a234-b3bcd59df01d",
   "metadata": {},
   "outputs": [
    {
     "data": {
      "text/html": [
       "<div>\n",
       "<style scoped>\n",
       "    .dataframe tbody tr th:only-of-type {\n",
       "        vertical-align: middle;\n",
       "    }\n",
       "\n",
       "    .dataframe tbody tr th {\n",
       "        vertical-align: top;\n",
       "    }\n",
       "\n",
       "    .dataframe thead th {\n",
       "        text-align: right;\n",
       "    }\n",
       "</style>\n",
       "<table border=\"1\" class=\"dataframe\">\n",
       "  <thead>\n",
       "    <tr style=\"text-align: right;\">\n",
       "      <th></th>\n",
       "      <th>Area Code</th>\n",
       "      <th>Area</th>\n",
       "      <th>Item Code</th>\n",
       "      <th>Item</th>\n",
       "      <th>Element Code</th>\n",
       "      <th>Element</th>\n",
       "      <th>Unit</th>\n",
       "      <th>Y2014</th>\n",
       "      <th>Y2015</th>\n",
       "      <th>Y2016</th>\n",
       "      <th>Y2017</th>\n",
       "      <th>Y2018</th>\n",
       "    </tr>\n",
       "  </thead>\n",
       "  <tbody>\n",
       "    <tr>\n",
       "      <th>0</th>\n",
       "      <td>4</td>\n",
       "      <td>Algeria</td>\n",
       "      <td>2501</td>\n",
       "      <td>Population</td>\n",
       "      <td>511</td>\n",
       "      <td>Total Population - Both sexes</td>\n",
       "      <td>1000 persons</td>\n",
       "      <td>38924.00</td>\n",
       "      <td>39728.00</td>\n",
       "      <td>40551.00</td>\n",
       "      <td>41389.00</td>\n",
       "      <td>42228.00</td>\n",
       "    </tr>\n",
       "    <tr>\n",
       "      <th>1</th>\n",
       "      <td>4</td>\n",
       "      <td>Algeria</td>\n",
       "      <td>2501</td>\n",
       "      <td>Population</td>\n",
       "      <td>5301</td>\n",
       "      <td>Domestic supply quantity</td>\n",
       "      <td>1000 tonnes</td>\n",
       "      <td>0.00</td>\n",
       "      <td>0.00</td>\n",
       "      <td>0.00</td>\n",
       "      <td>0.00</td>\n",
       "      <td>0.00</td>\n",
       "    </tr>\n",
       "    <tr>\n",
       "      <th>2</th>\n",
       "      <td>4</td>\n",
       "      <td>Algeria</td>\n",
       "      <td>2901</td>\n",
       "      <td>Grand Total</td>\n",
       "      <td>664</td>\n",
       "      <td>Food supply (kcal/capita/day)</td>\n",
       "      <td>kcal/capita/day</td>\n",
       "      <td>3377.00</td>\n",
       "      <td>3379.00</td>\n",
       "      <td>3372.00</td>\n",
       "      <td>3341.00</td>\n",
       "      <td>3322.00</td>\n",
       "    </tr>\n",
       "    <tr>\n",
       "      <th>3</th>\n",
       "      <td>4</td>\n",
       "      <td>Algeria</td>\n",
       "      <td>2901</td>\n",
       "      <td>Grand Total</td>\n",
       "      <td>674</td>\n",
       "      <td>Protein supply quantity (g/capita/day)</td>\n",
       "      <td>g/capita/day</td>\n",
       "      <td>94.90</td>\n",
       "      <td>94.35</td>\n",
       "      <td>94.72</td>\n",
       "      <td>92.82</td>\n",
       "      <td>91.83</td>\n",
       "    </tr>\n",
       "    <tr>\n",
       "      <th>4</th>\n",
       "      <td>4</td>\n",
       "      <td>Algeria</td>\n",
       "      <td>2901</td>\n",
       "      <td>Grand Total</td>\n",
       "      <td>684</td>\n",
       "      <td>Fat supply quantity (g/capita/day)</td>\n",
       "      <td>g/capita/day</td>\n",
       "      <td>80.06</td>\n",
       "      <td>79.36</td>\n",
       "      <td>77.40</td>\n",
       "      <td>80.19</td>\n",
       "      <td>77.28</td>\n",
       "    </tr>\n",
       "  </tbody>\n",
       "</table>\n",
       "</div>"
      ],
      "text/plain": [
       "   Area Code     Area  Item Code         Item  Element Code  \\\n",
       "0          4  Algeria       2501   Population           511   \n",
       "1          4  Algeria       2501   Population          5301   \n",
       "2          4  Algeria       2901  Grand Total           664   \n",
       "3          4  Algeria       2901  Grand Total           674   \n",
       "4          4  Algeria       2901  Grand Total           684   \n",
       "\n",
       "                                  Element             Unit     Y2014  \\\n",
       "0           Total Population - Both sexes     1000 persons  38924.00   \n",
       "1                Domestic supply quantity      1000 tonnes      0.00   \n",
       "2           Food supply (kcal/capita/day)  kcal/capita/day   3377.00   \n",
       "3  Protein supply quantity (g/capita/day)     g/capita/day     94.90   \n",
       "4      Fat supply quantity (g/capita/day)     g/capita/day     80.06   \n",
       "\n",
       "      Y2015     Y2016     Y2017     Y2018  \n",
       "0  39728.00  40551.00  41389.00  42228.00  \n",
       "1      0.00      0.00      0.00      0.00  \n",
       "2   3379.00   3372.00   3341.00   3322.00  \n",
       "3     94.35     94.72     92.82     91.83  \n",
       "4     79.36     77.40     80.19     77.28  "
      ]
     },
     "execution_count": 134,
     "metadata": {},
     "output_type": "execute_result"
    }
   ],
   "source": [
    "dt.head()"
   ]
  },
  {
   "cell_type": "code",
   "execution_count": 163,
   "id": "936eca9d-e748-47fc-8008-1c9f01853558",
   "metadata": {},
   "outputs": [
    {
     "ename": "AttributeError",
     "evalue": "module 'pandas' has no attribute 'length'",
     "output_type": "error",
     "traceback": [
      "\u001b[1;31m---------------------------------------------------------------------------\u001b[0m",
      "\u001b[1;31mAttributeError\u001b[0m                            Traceback (most recent call last)",
      "\u001b[1;32m~\\AppData\\Local\\Temp\\ipykernel_11224\\3570334295.py\u001b[0m in \u001b[0;36m<module>\u001b[1;34m\u001b[0m\n\u001b[0;32m      3\u001b[0m \u001b[1;31m#g=dt.groupby('Element')['Y2015']\u001b[0m\u001b[1;33m\u001b[0m\u001b[1;33m\u001b[0m\u001b[0m\n\u001b[0;32m      4\u001b[0m \u001b[0mg\u001b[0m\u001b[1;33m.\u001b[0m\u001b[0msum\u001b[0m\u001b[1;33m(\u001b[0m\u001b[1;33m)\u001b[0m\u001b[1;33m\u001b[0m\u001b[1;33m\u001b[0m\u001b[0m\n\u001b[1;32m----> 5\u001b[1;33m \u001b[0mpd\u001b[0m\u001b[1;33m.\u001b[0m\u001b[0mlength\u001b[0m\u001b[1;33m(\u001b[0m\u001b[0mdt\u001b[0m\u001b[1;33m)\u001b[0m\u001b[1;33m\u001b[0m\u001b[1;33m\u001b[0m\u001b[0m\n\u001b[0m",
      "\u001b[1;32m~\\anaconda3\\lib\\site-packages\\pandas\\__init__.py\u001b[0m in \u001b[0;36m__getattr__\u001b[1;34m(name)\u001b[0m\n\u001b[0;32m    259\u001b[0m         \u001b[1;32mreturn\u001b[0m \u001b[0m_SparseArray\u001b[0m\u001b[1;33m\u001b[0m\u001b[1;33m\u001b[0m\u001b[0m\n\u001b[0;32m    260\u001b[0m \u001b[1;33m\u001b[0m\u001b[0m\n\u001b[1;32m--> 261\u001b[1;33m     \u001b[1;32mraise\u001b[0m \u001b[0mAttributeError\u001b[0m\u001b[1;33m(\u001b[0m\u001b[1;34mf\"module 'pandas' has no attribute '{name}'\"\u001b[0m\u001b[1;33m)\u001b[0m\u001b[1;33m\u001b[0m\u001b[1;33m\u001b[0m\u001b[0m\n\u001b[0m\u001b[0;32m    262\u001b[0m \u001b[1;33m\u001b[0m\u001b[0m\n\u001b[0;32m    263\u001b[0m \u001b[1;33m\u001b[0m\u001b[0m\n",
      "\u001b[1;31mAttributeError\u001b[0m: module 'pandas' has no attribute 'length'"
     ]
    }
   ],
   "source": [
    "n=dt[['Y2017','Area']]\n",
    "g=dt.groupby(['Item'])['Y2017']\n",
    "#g=dt.groupby('Element')['Y2015']\n",
    "g.sum()\n",
    "pd.length(dt)"
   ]
  },
  {
   "cell_type": "code",
   "execution_count": 120,
   "id": "3b3c86f1-e60d-4933-b594-792c8029d493",
   "metadata": {},
   "outputs": [
    {
     "data": {
      "text/html": [
       "<div>\n",
       "<style scoped>\n",
       "    .dataframe tbody tr th:only-of-type {\n",
       "        vertical-align: middle;\n",
       "    }\n",
       "\n",
       "    .dataframe tbody tr th {\n",
       "        vertical-align: top;\n",
       "    }\n",
       "\n",
       "    .dataframe thead th {\n",
       "        text-align: right;\n",
       "    }\n",
       "</style>\n",
       "<table border=\"1\" class=\"dataframe\">\n",
       "  <thead>\n",
       "    <tr style=\"text-align: right;\">\n",
       "      <th></th>\n",
       "      <th>Area Code</th>\n",
       "      <th>Item Code</th>\n",
       "      <th>Element Code</th>\n",
       "      <th>Y2014</th>\n",
       "      <th>Y2015</th>\n",
       "      <th>Y2016</th>\n",
       "      <th>Y2017</th>\n",
       "      <th>Y2018</th>\n",
       "    </tr>\n",
       "  </thead>\n",
       "  <tbody>\n",
       "    <tr>\n",
       "      <th>Area Code</th>\n",
       "      <td>1.000000</td>\n",
       "      <td>-0.005159</td>\n",
       "      <td>-0.000209</td>\n",
       "      <td>0.006164</td>\n",
       "      <td>0.005472</td>\n",
       "      <td>0.005247</td>\n",
       "      <td>0.005006</td>\n",
       "      <td>0.005665</td>\n",
       "    </tr>\n",
       "    <tr>\n",
       "      <th>Item Code</th>\n",
       "      <td>-0.005159</td>\n",
       "      <td>1.000000</td>\n",
       "      <td>-0.024683</td>\n",
       "      <td>0.021722</td>\n",
       "      <td>0.020857</td>\n",
       "      <td>0.020109</td>\n",
       "      <td>0.021494</td>\n",
       "      <td>0.021314</td>\n",
       "    </tr>\n",
       "    <tr>\n",
       "      <th>Element Code</th>\n",
       "      <td>-0.000209</td>\n",
       "      <td>-0.024683</td>\n",
       "      <td>1.000000</td>\n",
       "      <td>0.024457</td>\n",
       "      <td>0.023889</td>\n",
       "      <td>0.023444</td>\n",
       "      <td>0.024254</td>\n",
       "      <td>0.024279</td>\n",
       "    </tr>\n",
       "    <tr>\n",
       "      <th>Y2014</th>\n",
       "      <td>0.006164</td>\n",
       "      <td>0.021722</td>\n",
       "      <td>0.024457</td>\n",
       "      <td>1.000000</td>\n",
       "      <td>0.994647</td>\n",
       "      <td>0.996081</td>\n",
       "      <td>0.995230</td>\n",
       "      <td>0.994872</td>\n",
       "    </tr>\n",
       "    <tr>\n",
       "      <th>Y2015</th>\n",
       "      <td>0.005472</td>\n",
       "      <td>0.020857</td>\n",
       "      <td>0.023889</td>\n",
       "      <td>0.994647</td>\n",
       "      <td>1.000000</td>\n",
       "      <td>0.995739</td>\n",
       "      <td>0.988048</td>\n",
       "      <td>0.988208</td>\n",
       "    </tr>\n",
       "    <tr>\n",
       "      <th>Y2016</th>\n",
       "      <td>0.005247</td>\n",
       "      <td>0.020109</td>\n",
       "      <td>0.023444</td>\n",
       "      <td>0.996081</td>\n",
       "      <td>0.995739</td>\n",
       "      <td>1.000000</td>\n",
       "      <td>0.992785</td>\n",
       "      <td>0.992757</td>\n",
       "    </tr>\n",
       "    <tr>\n",
       "      <th>Y2017</th>\n",
       "      <td>0.005006</td>\n",
       "      <td>0.021494</td>\n",
       "      <td>0.024254</td>\n",
       "      <td>0.995230</td>\n",
       "      <td>0.988048</td>\n",
       "      <td>0.992785</td>\n",
       "      <td>1.000000</td>\n",
       "      <td>0.998103</td>\n",
       "    </tr>\n",
       "    <tr>\n",
       "      <th>Y2018</th>\n",
       "      <td>0.005665</td>\n",
       "      <td>0.021314</td>\n",
       "      <td>0.024279</td>\n",
       "      <td>0.994872</td>\n",
       "      <td>0.988208</td>\n",
       "      <td>0.992757</td>\n",
       "      <td>0.998103</td>\n",
       "      <td>1.000000</td>\n",
       "    </tr>\n",
       "  </tbody>\n",
       "</table>\n",
       "</div>"
      ],
      "text/plain": [
       "              Area Code  Item Code  Element Code     Y2014     Y2015  \\\n",
       "Area Code      1.000000  -0.005159     -0.000209  0.006164  0.005472   \n",
       "Item Code     -0.005159   1.000000     -0.024683  0.021722  0.020857   \n",
       "Element Code  -0.000209  -0.024683      1.000000  0.024457  0.023889   \n",
       "Y2014          0.006164   0.021722      0.024457  1.000000  0.994647   \n",
       "Y2015          0.005472   0.020857      0.023889  0.994647  1.000000   \n",
       "Y2016          0.005247   0.020109      0.023444  0.996081  0.995739   \n",
       "Y2017          0.005006   0.021494      0.024254  0.995230  0.988048   \n",
       "Y2018          0.005665   0.021314      0.024279  0.994872  0.988208   \n",
       "\n",
       "                 Y2016     Y2017     Y2018  \n",
       "Area Code     0.005247  0.005006  0.005665  \n",
       "Item Code     0.020109  0.021494  0.021314  \n",
       "Element Code  0.023444  0.024254  0.024279  \n",
       "Y2014         0.996081  0.995230  0.994872  \n",
       "Y2015         0.995739  0.988048  0.988208  \n",
       "Y2016         1.000000  0.992785  0.992757  \n",
       "Y2017         0.992785  1.000000  0.998103  \n",
       "Y2018         0.992757  0.998103  1.000000  "
      ]
     },
     "execution_count": 120,
     "metadata": {},
     "output_type": "execute_result"
    }
   ],
   "source": [
    "dt.corr()"
   ]
  },
  {
   "cell_type": "code",
   "execution_count": 133,
   "id": "121d5422-014b-449b-aeef-ff8eb8872965",
   "metadata": {},
   "outputs": [
    {
     "data": {
      "text/plain": [
       "[[94, 89, 63], [93, 92, 48]]"
      ]
     },
     "execution_count": 133,
     "metadata": {},
     "output_type": "execute_result"
    }
   ],
   "source": [
    "a=([[94,89,63],[93,92,48],[92,94,56]])\n",
    "a[:2]"
   ]
  },
  {
   "cell_type": "code",
   "execution_count": 169,
   "id": "685a316d-d7ff-47da-bac3-3821d139ebfa",
   "metadata": {},
   "outputs": [
    {
     "data": {
      "text/html": [
       "<div>\n",
       "<style scoped>\n",
       "    .dataframe tbody tr th:only-of-type {\n",
       "        vertical-align: middle;\n",
       "    }\n",
       "\n",
       "    .dataframe tbody tr th {\n",
       "        vertical-align: top;\n",
       "    }\n",
       "\n",
       "    .dataframe thead th {\n",
       "        text-align: right;\n",
       "    }\n",
       "</style>\n",
       "<table border=\"1\" class=\"dataframe\">\n",
       "  <thead>\n",
       "    <tr style=\"text-align: right;\">\n",
       "      <th></th>\n",
       "      <th>9</th>\n",
       "      <th>8</th>\n",
       "      <th>7</th>\n",
       "    </tr>\n",
       "  </thead>\n",
       "  <tbody>\n",
       "    <tr>\n",
       "      <th>1</th>\n",
       "      <td>1</td>\n",
       "      <td>2</td>\n",
       "      <td>3</td>\n",
       "    </tr>\n",
       "    <tr>\n",
       "      <th>2</th>\n",
       "      <td>10</td>\n",
       "      <td>20</td>\n",
       "      <td>30</td>\n",
       "    </tr>\n",
       "    <tr>\n",
       "      <th>3</th>\n",
       "      <td>3</td>\n",
       "      <td>4</td>\n",
       "      <td>5</td>\n",
       "    </tr>\n",
       "  </tbody>\n",
       "</table>\n",
       "</div>"
      ],
      "text/plain": [
       "    9   8   7\n",
       "1   1   2   3\n",
       "2  10  20  30\n",
       "3   3   4   5"
      ]
     },
     "execution_count": 169,
     "metadata": {},
     "output_type": "execute_result"
    }
   ],
   "source": [
    "a=[[1,2,3],[10,20,30],[3,4,5]]\n",
    "c=[9,8,7]\n",
    "pd.DataFrame(a, columns=c,index=[i for i in range(1,4)])"
   ]
  },
  {
   "cell_type": "code",
   "execution_count": null,
   "id": "3e667ff0-28a9-4f02-b40c-8e2854825906",
   "metadata": {},
   "outputs": [],
   "source": []
  }
 ],
 "metadata": {
  "kernelspec": {
   "display_name": "Python 3 (ipykernel)",
   "language": "python",
   "name": "python3"
  },
  "language_info": {
   "codemirror_mode": {
    "name": "ipython",
    "version": 3
   },
   "file_extension": ".py",
   "mimetype": "text/x-python",
   "name": "python",
   "nbconvert_exporter": "python",
   "pygments_lexer": "ipython3",
   "version": "3.9.13"
  }
 },
 "nbformat": 4,
 "nbformat_minor": 5
}
